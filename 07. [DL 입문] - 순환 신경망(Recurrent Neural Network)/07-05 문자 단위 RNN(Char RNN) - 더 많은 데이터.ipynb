{
 "cells": [
  {
   "cell_type": "markdown",
   "id": "4f5c7931",
   "metadata": {},
   "source": [
    "이번 챕터에서는 더 많은 데이터 문자 단위 RNN을 구현합니다."
   ]
  },
  {
   "cell_type": "markdown",
   "id": "29ceae68",
   "metadata": {},
   "source": [
    "# 1. 문자 단위 RNN(Char RNN)\n",
    "\n",
    "---\n",
    "\n",
    "우선 필요한 도구들을 임포트합니다."
   ]
  },
  {
   "cell_type": "code",
   "execution_count": 1,
   "id": "c86045c1",
   "metadata": {},
   "outputs": [],
   "source": [
    "import torch\n",
    "import torch.nn as nn\n",
    "import torch.optim as optim\n",
    "import numpy as np"
   ]
  },
  {
   "cell_type": "markdown",
   "id": "4a4a7dbf",
   "metadata": {},
   "source": [
    "다음과 같이 임의의 샘플을 만듭니다."
   ]
  },
  {
   "cell_type": "markdown",
   "id": "4b6d391b",
   "metadata": {},
   "source": [
    "## 1. 훈련 데이터 전처리하기"
   ]
  },
  {
   "cell_type": "code",
   "execution_count": 2,
   "id": "0cb70cf6",
   "metadata": {},
   "outputs": [],
   "source": [
    "sentence = (\"if you want to build a ship, don't drum up people together to \"\n",
    "            \"collect wood and don't assign them tasks and work, but rather \"\n",
    "            \"teach them to long for the endless immensity of the sea.\")"
   ]
  },
  {
   "cell_type": "markdown",
   "id": "d21b445e",
   "metadata": {},
   "source": [
    "문자 집합을 생성하고, 각 문자에 고유한 정수를 부여합니다."
   ]
  },
  {
   "cell_type": "code",
   "execution_count": 3,
   "id": "41111a19",
   "metadata": {},
   "outputs": [],
   "source": [
    "char_set = list(set(sentence)) # 중복을 제거한 문자 집합 생성\n",
    "char_dic = {c: i for i, c in enumerate(char_set)} # 각 문자에 정수 인코딩"
   ]
  },
  {
   "cell_type": "code",
   "execution_count": 4,
   "id": "b9717e88",
   "metadata": {},
   "outputs": [
    {
     "name": "stdout",
     "output_type": "stream",
     "text": [
      "{'t': 0, 'i': 1, 'p': 2, 'b': 3, 'd': 4, 'm': 5, ',': 6, 'n': 7, 'g': 8, 'r': 9, 'k': 10, '.': 11, ' ': 12, 'o': 13, 's': 14, 'a': 15, 'f': 16, \"'\": 17, 'e': 18, 'l': 19, 'h': 20, 'y': 21, 'w': 22, 'u': 23, 'c': 24}\n"
     ]
    }
   ],
   "source": [
    "print(char_dic) # 공백도 여기서는 하나의 원소"
   ]
  },
  {
   "cell_type": "markdown",
   "id": "dbe17def",
   "metadata": {},
   "source": [
    "각 문자에 정수가 부여되었으며, 총 25개의 문자가 존재합니다. 문자 집합의 크기를 확인해봅시다."
   ]
  },
  {
   "cell_type": "code",
   "execution_count": 5,
   "id": "a08122cb",
   "metadata": {},
   "outputs": [
    {
     "name": "stdout",
     "output_type": "stream",
     "text": [
      "문자 집합의 크기 : 25\n"
     ]
    }
   ],
   "source": [
    "dic_size = len(char_dic)\n",
    "print('문자 집합의 크기 : {}'.format(dic_size))"
   ]
  },
  {
   "cell_type": "markdown",
   "id": "74856679",
   "metadata": {},
   "source": [
    "문자 집합의 크기는 25이며, 입력을 원-핫 벡터로 사용할 것이므로 이는 매 시점마다 들어갈 입력의 크기이기도 합니다. 이제 하이퍼파라미터를 설정합니다. hidden_size(은닉 상태의 크기)를 입력의 크기와 동일하게 줬는데, 이는 사용자의 선택으로 다른 값을 줘도 무방합니다.\n",
    "\n",
    "그리고 sequence_length라는 변수를 선언했는데, 우리가 앞서 만든 샘플을 10개 단위로 끊어서 샘플을 만들 예정이기 때문입니다. 이는 뒤에서 더 자세히 보겠습니다."
   ]
  },
  {
   "cell_type": "code",
   "execution_count": 6,
   "id": "0ca5268f",
   "metadata": {},
   "outputs": [],
   "source": [
    "# 하이퍼파라미터 설정\n",
    "hidden_size = dic_size\n",
    "sequence_length = 10  # 임의 숫자 지정\n",
    "learning_rate = 0.1"
   ]
  },
  {
   "cell_type": "markdown",
   "id": "208a20c4",
   "metadata": {},
   "source": [
    "다음은 임의로 지정한 sequence_length 값인 10의 단위로 샘플들을 잘라서 데이터를 만드는 모습을 보여줍니다.\n",
    "\n",
    "즉 이 RNN model은 'abcdefghij'을 input으로 넣으면 'bcdefghij' 식으로 나오는 model인 것입니다. (편의상 sentence에 없는 알파벳을 사용)"
   ]
  },
  {
   "cell_type": "code",
   "execution_count": 7,
   "id": "003e984d",
   "metadata": {},
   "outputs": [
    {
     "name": "stdout",
     "output_type": "stream",
     "text": [
      "0 if you wan -> f you want\n",
      "1 f you want ->  you want \n",
      "2  you want  -> you want t\n",
      "3 you want t -> ou want to\n",
      "4 ou want to -> u want to \n",
      "5 u want to  ->  want to b\n",
      "6  want to b -> want to bu\n",
      "7 want to bu -> ant to bui\n",
      "8 ant to bui -> nt to buil\n",
      "9 nt to buil -> t to build\n",
      "10 t to build ->  to build \n",
      "11  to build  -> to build a\n",
      "12 to build a -> o build a \n",
      "13 o build a  ->  build a s\n",
      "14  build a s -> build a sh\n",
      "15 build a sh -> uild a shi\n",
      "16 uild a shi -> ild a ship\n",
      "17 ild a ship -> ld a ship,\n",
      "18 ld a ship, -> d a ship, \n",
      "19 d a ship,  ->  a ship, d\n",
      "20  a ship, d -> a ship, do\n",
      "21 a ship, do ->  ship, don\n",
      "22  ship, don -> ship, don'\n",
      "23 ship, don' -> hip, don't\n",
      "24 hip, don't -> ip, don't \n",
      "25 ip, don't  -> p, don't d\n",
      "26 p, don't d -> , don't dr\n",
      "27 , don't dr ->  don't dru\n",
      "28  don't dru -> don't drum\n",
      "29 don't drum -> on't drum \n",
      "30 on't drum  -> n't drum u\n",
      "31 n't drum u -> 't drum up\n",
      "32 't drum up -> t drum up \n",
      "33 t drum up  ->  drum up p\n",
      "34  drum up p -> drum up pe\n",
      "35 drum up pe -> rum up peo\n",
      "36 rum up peo -> um up peop\n",
      "37 um up peop -> m up peopl\n",
      "38 m up peopl ->  up people\n",
      "39  up people -> up people \n",
      "40 up people  -> p people t\n",
      "41 p people t ->  people to\n",
      "42  people to -> people tog\n",
      "43 people tog -> eople toge\n",
      "44 eople toge -> ople toget\n",
      "45 ople toget -> ple togeth\n",
      "46 ple togeth -> le togethe\n",
      "47 le togethe -> e together\n",
      "48 e together ->  together \n",
      "49  together  -> together t\n",
      "50 together t -> ogether to\n",
      "51 ogether to -> gether to \n",
      "52 gether to  -> ether to c\n",
      "53 ether to c -> ther to co\n",
      "54 ther to co -> her to col\n",
      "55 her to col -> er to coll\n",
      "56 er to coll -> r to colle\n",
      "57 r to colle ->  to collec\n",
      "58  to collec -> to collect\n",
      "59 to collect -> o collect \n",
      "60 o collect  ->  collect w\n",
      "61  collect w -> collect wo\n",
      "62 collect wo -> ollect woo\n",
      "63 ollect woo -> llect wood\n",
      "64 llect wood -> lect wood \n",
      "65 lect wood  -> ect wood a\n",
      "66 ect wood a -> ct wood an\n",
      "67 ct wood an -> t wood and\n",
      "68 t wood and ->  wood and \n",
      "69  wood and  -> wood and d\n",
      "70 wood and d -> ood and do\n",
      "71 ood and do -> od and don\n",
      "72 od and don -> d and don'\n",
      "73 d and don' ->  and don't\n",
      "74  and don't -> and don't \n",
      "75 and don't  -> nd don't a\n",
      "76 nd don't a -> d don't as\n",
      "77 d don't as ->  don't ass\n",
      "78  don't ass -> don't assi\n",
      "79 don't assi -> on't assig\n",
      "80 on't assig -> n't assign\n",
      "81 n't assign -> 't assign \n",
      "82 't assign  -> t assign t\n",
      "83 t assign t ->  assign th\n",
      "84  assign th -> assign the\n",
      "85 assign the -> ssign them\n",
      "86 ssign them -> sign them \n",
      "87 sign them  -> ign them t\n",
      "88 ign them t -> gn them ta\n",
      "89 gn them ta -> n them tas\n",
      "90 n them tas ->  them task\n",
      "91  them task -> them tasks\n",
      "92 them tasks -> hem tasks \n",
      "93 hem tasks  -> em tasks a\n",
      "94 em tasks a -> m tasks an\n",
      "95 m tasks an ->  tasks and\n",
      "96  tasks and -> tasks and \n",
      "97 tasks and  -> asks and w\n",
      "98 asks and w -> sks and wo\n",
      "99 sks and wo -> ks and wor\n",
      "100 ks and wor -> s and work\n",
      "101 s and work ->  and work,\n",
      "102  and work, -> and work, \n",
      "103 and work,  -> nd work, b\n",
      "104 nd work, b -> d work, bu\n",
      "105 d work, bu ->  work, but\n",
      "106  work, but -> work, but \n",
      "107 work, but  -> ork, but r\n",
      "108 ork, but r -> rk, but ra\n",
      "109 rk, but ra -> k, but rat\n",
      "110 k, but rat -> , but rath\n",
      "111 , but rath ->  but rathe\n",
      "112  but rathe -> but rather\n",
      "113 but rather -> ut rather \n",
      "114 ut rather  -> t rather t\n",
      "115 t rather t ->  rather te\n",
      "116  rather te -> rather tea\n",
      "117 rather tea -> ather teac\n",
      "118 ather teac -> ther teach\n",
      "119 ther teach -> her teach \n",
      "120 her teach  -> er teach t\n",
      "121 er teach t -> r teach th\n",
      "122 r teach th ->  teach the\n",
      "123  teach the -> teach them\n",
      "124 teach them -> each them \n",
      "125 each them  -> ach them t\n",
      "126 ach them t -> ch them to\n",
      "127 ch them to -> h them to \n",
      "128 h them to  ->  them to l\n",
      "129  them to l -> them to lo\n",
      "130 them to lo -> hem to lon\n",
      "131 hem to lon -> em to long\n",
      "132 em to long -> m to long \n",
      "133 m to long  ->  to long f\n",
      "134  to long f -> to long fo\n",
      "135 to long fo -> o long for\n",
      "136 o long for ->  long for \n",
      "137  long for  -> long for t\n",
      "138 long for t -> ong for th\n",
      "139 ong for th -> ng for the\n",
      "140 ng for the -> g for the \n",
      "141 g for the  ->  for the e\n",
      "142  for the e -> for the en\n",
      "143 for the en -> or the end\n",
      "144 or the end -> r the endl\n",
      "145 r the endl ->  the endle\n",
      "146  the endle -> the endles\n",
      "147 the endles -> he endless\n",
      "148 he endless -> e endless \n",
      "149 e endless  ->  endless i\n",
      "150  endless i -> endless im\n",
      "151 endless im -> ndless imm\n",
      "152 ndless imm -> dless imme\n",
      "153 dless imme -> less immen\n",
      "154 less immen -> ess immens\n",
      "155 ess immens -> ss immensi\n",
      "156 ss immensi -> s immensit\n",
      "157 s immensit ->  immensity\n",
      "158  immensity -> immensity \n",
      "159 immensity  -> mmensity o\n",
      "160 mmensity o -> mensity of\n",
      "161 mensity of -> ensity of \n",
      "162 ensity of  -> nsity of t\n",
      "163 nsity of t -> sity of th\n",
      "164 sity of th -> ity of the\n",
      "165 ity of the -> ty of the \n",
      "166 ty of the  -> y of the s\n",
      "167 y of the s ->  of the se\n",
      "168  of the se -> of the sea\n",
      "169 of the sea -> f the sea.\n"
     ]
    }
   ],
   "source": [
    "# 데이터 구성\n",
    "x_data = []\n",
    "y_data = []\n",
    "\n",
    "for i in range(0, len(sentence) - sequence_length):\n",
    "    x_str = sentence[i:i + sequence_length]\n",
    "    y_str = sentence[i + 1: i + sequence_length + 1]\n",
    "    print(i, x_str, '->', y_str)\n",
    "\n",
    "    x_data.append([char_dic[c] for c in x_str])  # x str to index\n",
    "    y_data.append([char_dic[c] for c in y_str])  # y str to index"
   ]
  },
  {
   "cell_type": "markdown",
   "id": "874cb0a1",
   "metadata": {},
   "source": [
    "총 170개의 샘플이 생성되었습니다. 그리고 각 샘플의 각 문자들은 고유한 정수로 인코딩이 된 상태입니다. 첫번째 샘플의 입력 데이터와 레이블 데이터를 출력해봅시다."
   ]
  },
  {
   "cell_type": "code",
   "execution_count": 8,
   "id": "1b5e7010",
   "metadata": {},
   "outputs": [
    {
     "name": "stdout",
     "output_type": "stream",
     "text": [
      "[1, 16, 12, 21, 13, 23, 12, 22, 15, 7]\n",
      "[16, 12, 21, 13, 23, 12, 22, 15, 7, 0]\n"
     ]
    }
   ],
   "source": [
    "print(x_data[0]) # if you wan에 해당됨.\n",
    "print(y_data[0]) # f you want에 해당됨."
   ]
  },
  {
   "cell_type": "markdown",
   "id": "3c34fa82",
   "metadata": {},
   "source": [
    "한 칸씩 쉬프트 된 시퀀스가 정상적으로 출력되는 것을 볼 수 있습니다. 이제 입력 시퀀스에 대해서 원-핫 인코딩을 수행하고, 입력 데이터와 레이블 데이터를 텐서로 변환합니다."
   ]
  },
  {
   "cell_type": "code",
   "execution_count": 10,
   "id": "4ce41b5e",
   "metadata": {},
   "outputs": [],
   "source": [
    "x_one_hot = np.array([np.eye(dic_size)[x] for x in x_data]) # x 데이터는 원-핫 인코딩\n",
    "X = torch.FloatTensor(x_one_hot)\n",
    "Y = torch.LongTensor(y_data)"
   ]
  },
  {
   "cell_type": "markdown",
   "id": "f1c7c4cb",
   "metadata": {},
   "source": [
    "이제 훈련 데이터와 레이블 데이터의 크기를 확인해봅시다."
   ]
  },
  {
   "cell_type": "code",
   "execution_count": 11,
   "id": "3c78c2ec",
   "metadata": {},
   "outputs": [
    {
     "name": "stdout",
     "output_type": "stream",
     "text": [
      "훈련 데이터의 크기 : torch.Size([170, 10, 25])\n",
      "레이블의 크기 : torch.Size([170, 10])\n"
     ]
    }
   ],
   "source": [
    "print('훈련 데이터의 크기 : {}'.format(X.shape))\n",
    "print('레이블의 크기 : {}'.format(Y.shape))"
   ]
  },
  {
   "cell_type": "markdown",
   "id": "b8271d0a",
   "metadata": {},
   "source": [
    "원-핫 인코딩 된 결과를 보기 위해서 첫번째 샘플만 출력해봅시다."
   ]
  },
  {
   "cell_type": "code",
   "execution_count": 12,
   "id": "22653694",
   "metadata": {},
   "outputs": [
    {
     "name": "stdout",
     "output_type": "stream",
     "text": [
      "tensor([[0., 1., 0., 0., 0., 0., 0., 0., 0., 0., 0., 0., 0., 0., 0., 0., 0., 0.,\n",
      "         0., 0., 0., 0., 0., 0., 0.],\n",
      "        [0., 0., 0., 0., 0., 0., 0., 0., 0., 0., 0., 0., 0., 0., 0., 0., 1., 0.,\n",
      "         0., 0., 0., 0., 0., 0., 0.],\n",
      "        [0., 0., 0., 0., 0., 0., 0., 0., 0., 0., 0., 0., 1., 0., 0., 0., 0., 0.,\n",
      "         0., 0., 0., 0., 0., 0., 0.],\n",
      "        [0., 0., 0., 0., 0., 0., 0., 0., 0., 0., 0., 0., 0., 0., 0., 0., 0., 0.,\n",
      "         0., 0., 0., 1., 0., 0., 0.],\n",
      "        [0., 0., 0., 0., 0., 0., 0., 0., 0., 0., 0., 0., 0., 1., 0., 0., 0., 0.,\n",
      "         0., 0., 0., 0., 0., 0., 0.],\n",
      "        [0., 0., 0., 0., 0., 0., 0., 0., 0., 0., 0., 0., 0., 0., 0., 0., 0., 0.,\n",
      "         0., 0., 0., 0., 0., 1., 0.],\n",
      "        [0., 0., 0., 0., 0., 0., 0., 0., 0., 0., 0., 0., 1., 0., 0., 0., 0., 0.,\n",
      "         0., 0., 0., 0., 0., 0., 0.],\n",
      "        [0., 0., 0., 0., 0., 0., 0., 0., 0., 0., 0., 0., 0., 0., 0., 0., 0., 0.,\n",
      "         0., 0., 0., 0., 1., 0., 0.],\n",
      "        [0., 0., 0., 0., 0., 0., 0., 0., 0., 0., 0., 0., 0., 0., 0., 1., 0., 0.,\n",
      "         0., 0., 0., 0., 0., 0., 0.],\n",
      "        [0., 0., 0., 0., 0., 0., 0., 1., 0., 0., 0., 0., 0., 0., 0., 0., 0., 0.,\n",
      "         0., 0., 0., 0., 0., 0., 0.]])\n"
     ]
    }
   ],
   "source": [
    "print(X[0])"
   ]
  },
  {
   "cell_type": "markdown",
   "id": "c531f1e6",
   "metadata": {},
   "source": [
    "레이블 데이터의 첫번째 샘플도 출력해봅시다."
   ]
  },
  {
   "cell_type": "code",
   "execution_count": 13,
   "id": "8a9c8bae",
   "metadata": {},
   "outputs": [
    {
     "name": "stdout",
     "output_type": "stream",
     "text": [
      "tensor([16, 12, 21, 13, 23, 12, 22, 15,  7,  0])\n"
     ]
    }
   ],
   "source": [
    "print(Y[0])"
   ]
  },
  {
   "cell_type": "markdown",
   "id": "ca8b0145",
   "metadata": {},
   "source": [
    "위 레이블 시퀀스는 f you want에 해당됩니다. 이제 모델을 설계합니다."
   ]
  },
  {
   "cell_type": "markdown",
   "id": "b01c109d",
   "metadata": {},
   "source": [
    "# 2. 모델 구현하기\n",
    "\n",
    "---\n",
    "\n",
    "모델은 앞서 실습한 문자 단위 RNN 챕터와 거의 동일합니다. 다만 이번에는 은닉층을 두 개 쌓을 겁니다."
   ]
  },
  {
   "cell_type": "code",
   "execution_count": 14,
   "id": "04918925",
   "metadata": {},
   "outputs": [],
   "source": [
    "class Net(torch.nn.Module):\n",
    "    def __init__(self, input_dim, hidden_dim, layers): # 현재 hidden_size는 dic_size와 같음.\n",
    "        super(Net, self).__init__()\n",
    "        self.rnn = torch.nn.RNN(input_dim, hidden_dim, num_layers=layers, batch_first=True)\n",
    "        self.fc = torch.nn.Linear(hidden_dim, hidden_dim, bias=True)\n",
    "\n",
    "    def forward(self, x):\n",
    "        x, _status = self.rnn(x)\n",
    "        x = self.fc(x)\n",
    "        return x"
   ]
  },
  {
   "cell_type": "code",
   "execution_count": 15,
   "id": "92b08f8e",
   "metadata": {},
   "outputs": [],
   "source": [
    "net = Net(dic_size, hidden_size, 2) # 이번에는 층을 두 개 쌓습니다."
   ]
  },
  {
   "cell_type": "markdown",
   "id": "81276b42",
   "metadata": {},
   "source": [
    "nn.RNN() 안에 num_layers라는 인자를 사용합니다. 이는 은닉층을 몇 개 쌓을 것인지를 의미합니다. 모델 선언 시 layers라는 인자에 2를 전달하여 은닉층을 두 개 쌓습니다. 비용 함수와 옵티마이저를 선언합니다."
   ]
  },
  {
   "cell_type": "code",
   "execution_count": 16,
   "id": "a0822147",
   "metadata": {},
   "outputs": [],
   "source": [
    "criterion = torch.nn.CrossEntropyLoss()\n",
    "optimizer = optim.Adam(net.parameters(), learning_rate)"
   ]
  },
  {
   "cell_type": "markdown",
   "id": "5b50dee0",
   "metadata": {},
   "source": [
    "이제 모델에 입력을 넣어서 출력의 크기를 확인해봅시다."
   ]
  },
  {
   "cell_type": "code",
   "execution_count": 17,
   "id": "8b16467e",
   "metadata": {},
   "outputs": [
    {
     "name": "stdout",
     "output_type": "stream",
     "text": [
      "torch.Size([170, 10, 25])\n"
     ]
    }
   ],
   "source": [
    "outputs = net(X)\n",
    "print(outputs.shape) # 3차원 텐서"
   ]
  },
  {
   "cell_type": "markdown",
   "id": "6d466f02",
   "metadata": {},
   "source": [
    "(170, 10, 25)의 크기를 가지는데 각각 배치 차원, 시점(timesteps), 출력의 크기입니다. 나중에 정확도를 측정할 때는 이를 모두 펼쳐서 계산하게 되는데, 이때는 view를 사용하여 배치 차원과 시점 차원을 하나로 만듭니다."
   ]
  },
  {
   "cell_type": "code",
   "execution_count": 18,
   "id": "1475fdda",
   "metadata": {},
   "outputs": [
    {
     "name": "stdout",
     "output_type": "stream",
     "text": [
      "torch.Size([1700, 25])\n"
     ]
    }
   ],
   "source": [
    "print(outputs.view(-1, dic_size).shape) # 2차원 텐서로 변환."
   ]
  },
  {
   "cell_type": "markdown",
   "id": "847949bb",
   "metadata": {},
   "source": [
    "차원이 (1700, 25)가 된 것을 볼 수 있습니다. 이제 레이블 데이터의 크기를 다시 복습해 봅시다."
   ]
  },
  {
   "cell_type": "code",
   "execution_count": 19,
   "id": "86574fda",
   "metadata": {},
   "outputs": [
    {
     "name": "stdout",
     "output_type": "stream",
     "text": [
      "torch.Size([170, 10])\n",
      "torch.Size([1700])\n"
     ]
    }
   ],
   "source": [
    "print(Y.shape)\n",
    "print(Y.view(-1).shape)"
   ]
  },
  {
   "cell_type": "markdown",
   "id": "fe644aef",
   "metadata": {},
   "source": [
    "레이블 데이터는 (170, 10)의 크기를 가지는데, 마찬가지로 나중에 정확도를 측정할 때는 이걸 펼쳐서 계산할 예정입니다. 이 경우 (1700)의 크기를 가지게 됩니다. 이제 옵티마이저와 손실 함수를 정의합니다."
   ]
  },
  {
   "cell_type": "code",
   "execution_count": 20,
   "id": "5e420d72",
   "metadata": {},
   "outputs": [
    {
     "name": "stdout",
     "output_type": "stream",
     "text": [
      "seellgsscgsssyhssleeeshyygsyycsgclycsgcsscssssheshshhssegsyshhsseygshyychhssgcsshgslyseysyghsyggsscfygycgcsychsyeeylsscdecsyshsysysydysshhecgssychssecsshcegeyyshysghsdhcehesedsshs\n",
      "                                                                                                                                                                                   \n",
      "eeei  eii t    t a  a   a   t a t t    t  t   aa   e   e  to    o a       o   t e t a       oe  t  aa o   t   o a   t t e  to a e  t  t   a   t t t       a a   a t  o  t  a e a   \n",
      "                                                                                                                                                                                   \n",
      "m        d dd  d md dd dd d d d e   dd   md md dd dddd d  dd  md a dd dd     dd   d d dd    dd    d d    d d  e d  d  d a d  d md d dd dd d    d  d    dd edd  d d    d  dd d  d d \n",
      "piimi pi liiii iomeoiemiipi imiin i ie ui iipi iimiepi i  ioi pi iiiinii mmipei   e eoii iii e p  e iimioiiimne eo ii e eiii eoue iiie pe ei imii e pomioiiiimiimiini uenioiinmei i\n",
      "eoeoeoeeoeoeoeoeooeoeeeeoeoeeoeoeoeoeeoeoeeeeeeeoeoeoeoeoeeoeoeoeeeooeoeoeeeoooeoeeoeoeoeeeeoeoeeeeoeeoeoeoeoeeoeoeoeoeoeoeeoeoeoeeeoeeeeoeoeeeeeoeoeoeoeeoeoeeeoeoeeoeeoeoeoeoeoee\n",
      "   o o o      o                  o o                o o o        o    o            o o o                       o o o o o o        o o          o o o o o                    o o    \n",
      "  t t t t               t         t t                t t        t t                 t t                         t t t t t      t t t t        t t t t t t t                t t t   \n",
      "t t t t t    t          t   t     t t  t       t   t t t    t t t t               t t t t t  t            t   t t t t t t t  t t t t t    t   t t t t t t t t              t t t   \n",
      "  t t t    t t    t             t t    t             t t  t t   t    t            t t t      t    t           t t t t t t  t t   t t    t t       t t t                    t t t   \n",
      "  e e e    e e    e             e e  e e         e e e e  e e        e    e   e   e e e      e  e e  e e  e  oe e e eoe e  e e     e  e e e  e  e e e                      e e e   \n",
      "  e e e    e e    e e e e       e e  e e       e e e e e  e e    e   e    e   e   e e        e  e e  e    e   e e e e e e  e e  e  e  e e e  e  e e e            e  e    e e e     \n",
      "  e e e    e es   e e e       she e  t e  s    e e ehe e  e es   e   e    e     ehe e e es   e  e e  us   e  ht e e e e e  e e   e e  e ese  e  e e e e       e  t  m    e e e e   \n",
      "  t e t    e e    e e e  t      t e  t e  t    e e e t e  t e    e   e    t   e e t e t tt   e  t e       e   t ett e t e  t e   t e  t e e  t  t t e e   e   et t       t t e e   \n",
      "  t t t    t t t  t e t     t   t t  t t       t t t t d  t t    t   t    t   t t t t    n   t  t         t   t d t t t d  t e   t e  t t t       t e d   e   tn           t e d   \n",
      "l t   tn   d n  n t dnt  t  d   t t  t to      t t   t dn t      t   to   t   d   t tn   n   tn t       n to at dat d t dn t     t dn t   t     n t da    d   da t   a     t dn    \n",
      "l t t to t totato t totoetn tot t to t to t    t tot t eo t tat dt   to   tot tot t tot tt t to t to  atn to  t ttt t t eo t ea at eo t tato tt t t eotot e t tt to   t  t t toto t\n",
      "l t   to t e   to t eoe et  t   t eo t t  to   t to  t eo t  bo  e   to   to  e   t eo  tt t eo t  o   tn to  t ett t t eo t  n  t eo t   t  t  o t eo  t e o tt to   t eo t eoe   \n",
      "f e   to   eosltn e eoe etn eos t eo t eo en s e e s t eo t  l  le   eos  eos e s t eo   nst eo t   s ets eo  t e t e t eo t  s  t eo t sle s e s t eoe s e   et tns    en t eoe   \n",
      "f e   tn t eo btn e eoe etn eo lt eo t eo en  le t   t eo t  bn ee   to   eos eo lt eo  tnst eo t     eon eo  t ett e t eo t  n  t en t  be s e n t eoe d e n et tn     at toeoe   \n",
      "yyt   tn t eo atn t totoetn to at eout to tt   t t  at eout  bt ee   to   tnn eo lt eo  un t eo t     aon to  t utt e t eout  a at ea t  atn  d n t eotod e o at to   u at t eoto  \n",
      "ymdonltndt donctnld tndoetn dodlt do t todtnlnld tonln eo t nlodddn  todn tnd donlt dn  dndt eo tod d dod don t dtt dat eo t dn  toeo tonctndld n t eodod dno dt tnd do bo toeododn\n",
      "y e   to t to ltole tod eon to lt to t to ao  le t   t eo t  lo le   to   tod do lt to  lddt eo t d   eod to  t aut t t eo t  l et eo t  ltldld o t eoeod el  do tod l  bo t eoe  l\n",
      "yhe   to t to bttle tneoeoe to lt tout to toeo e t   t eo t  bo een  to   tnd to lt to  tnet eo t eo  aoe to  t tut t t eo t  c et eo t  btnd t t t eoeoe eo  to tod ao bo toeoeoeo\n",
      "pmtos tn t tosbttle tneoeme tos't dout tnstn s'entos t eo t sboslens toss tns tos't dn  tnstoeo tos s tns tos t but tat eo t  l  toeo tosbtnsst t t eoeos ens tt tns lo bo toeoeoen\n",
      "phto  to t to lutle tnd emn to 't do t to tn sle to  t eo t  lsslel  to   tns to 't dn  gngtoeo tos   dns to  t gut dbt eo t  l  toeo to ltn' b s t eodos el  gt uns lm ln toeod  l\n",
      "pmto  to t to lutne tneoeoe wo lt douo to teosle t   t eo th lo leno to   tnd wo lt dn  tndt eo t e   dns to  t aut wat eo t eco t eo th lend tot t eoeod elo ap tns pm lo toeoeoen\n",
      "pmto  toet to lutle tneoepe aoelt doao toepeosle to  t eo th lo lect to   tnd do lt dn  andtheo the d dnd to  t dut aat eo t eco t eo th lend aot t eoeoe elt dp tnl loico toeoeoer\n",
      "pmto  dndt do lutle tne epn donlt do t to peodle to  t eo t  lodldlo to   tnd ao lt dn  dndt eo tod d dnd to  t dut dat eo t  l  toeo to lend aoo t eod d elo dt tnl lu lo toeo   l\n",
      "pyto  annt tosbutle tnehepn bon't do t to teosle to  t eo t  boslelo to s tnd aos't dn  gndtheo thd d ans to  t dut dat eo t  lo theo th btnd aoo theodnd elo dt tnd pu lo theod  l\n",
      "poeo  tono to cuole tnehepe won't ao t toepeon t th  t eo th bosle o toos tns aos't an  gndtheo theks wns too t dut a t eo thelo theo th btns aoo theoeos elo bp ens po lo theoe ec\n",
      "pmtos acnt tosltole aneoepe won't wo p toepeoosectos ther t  bosleno troskans aon't wn  pngt er todrs wns aco t wut wather t ico ther to btndpaot t erensueco wpuensupu co t ereoec\n",
      "phth  tosu do luole tne epn wo 't to m to keh lt th  t er th lo ldlo to   and do 't tn  gndt er th    wnd wo  t but t t er thil  ther th ltsd bo  t erdld el  dp eld gh l  therd eo\n",
      "phdo  dodu to butle tne ep, bon't do m to m,oslt th  theo th bo lelt wo   tnd don't dn  pndtheo thdld and to  t but wmt eo thil  theo th btnd to  theon d el  wmhend fo mo theon eo\n",
      "pydoo tnntotoncutne tneoep, aon't doum to t,on'e to  toeo to bonleat tonn tnn aon't dn  fn toeo tod n tnn ton t tut wmtoeo toeno toeo to btndutot toeoend eno wpueen fyipo toeoeoen\n",
      "phd   dont to cutce tne epe don't doum to p,onlt th  theo to boslect doos tnd don't dn  fnltheo thd n and don t dut dat eo toecn toeo to btns tot theoend eco dp ens py pn toeoe an\n",
      "pht   dosu to lutld tnd ep, don't do p to p,o lt th  t er th lo ldlt do   and dos't dn  pnst er tos d dnd do  t dut dat er thil  ther th ltss fo  therdsd el  dpoend py rn therd ac\n",
      "myth  dcsu to cutld ane ep, don't doup to p,o lt th  ther th cosldct do llansldon't dn  pn'ther thsln dns ao  t dut dather thil  ther th ctns fo  therdndreco dpoens fy rn therd ac\n",
      "myth  acnt to cutce ane ep, don't doup to p,o le th  theo th coslect wooslans aon't dn  tn'theo thskn ans ao  t but watheo theco theo th censgfoo theoendleco bpuens fy on theoeoan\n",
      "myth  wont th butce tne ep, won't wouo to meo lt th  theo th bo leat woon tns won't wn  fn'theo thskn wns wo  t but watheo theco theo th btns foo theoend eso bmuens ty on theoe ao\n",
      "gmth  wont th luole tne ep, don't woum to meo le th  theo th lo lect woon tnd aon't wn  mn'theo thdkn ans woo t but watheo thiso theo th ltnd foo theoend es  bmuens fy on theoe ao\n",
      "goth  dont to luole ane ep, don't doum to meo le th  ther to lodlect tood andlaon't dn  gn'ther todkn dnd ao  t but bather tois  toe  to ltng foo therendle o bmuend fy on there as\n",
      "goth  dont to luold ane ep, don't ioum to p,o le th  ther to lodlect iood and aon't in  gn ther tod n dnd aoo t but iather toiso toer to lrnd foo the endles  dmuend fy oo there as\n",
      "gotho dont to cutsd ane ep, don't ioum to p,o lr th  ther th bodlect dood and aon't in  gn ther thdkn and aoo t but iathem thiso them th brnd to  therend es  imuend ty oo theme ac\n",
      "fotoo wont to cuole anaoep, don't doum to m,oole th  toeo to codlect woon and aon't dn  gn'theo todkn and ao kt but iatheo toico them to cond to  thereadmes  bmmend ty oo theoe ac\n",
      "foth  wont th luole ane ep, don't doum to m,o le th  ther th lodlect dood and aon't dn  gn'ther thd n dnd aoo t but dather thico ther th lons foo the endles  immend to oo the e ac\n",
      "foto  dont th luole ane ep, don't doum to m,o le th  the  th lollect dool and won't dn  gn'the  thd n and dookt but dathe  thico the  th lond foo the endles  bmmend ty oo the e ac\n",
      "fm,ofldont to lutle ane epe don't doum to meo le th  ther th lollect dool andldon't dn  fn'ther thdkn and wo kt but dather thacp ther th ltng foo therendlec  bmmend ty oo there ac\n",
      "foyof dant to butld ane epe don't doum to peoole th  ther th bollect dood and don't dn  fndther thske and dapkt but dather thaco them th btnd fot therend ec  bmmend ty oo there ac\n",
      "moyoo wont to lutle ane epe don't toum to peoole th  ther th lollect dool and don't tn  pn'ther toskn ans ao  t but iather thaco toep to lons fo  therendlen  bmmens ty oo there as\n",
      "moyo  wont to lutld ans ep, don't doum to peoole to  toer to lollect dool and don't dn  gn them tosks ans ao  t but dathem thacs toem to long fo  themendlen  bmmens ty oo there as\n",
      "poyo  wont th lutld ans epe don't doum to meoole th  ther th lollec, dool and don't dn  fngther thsks asd doo , bu, dather thacs ther th long for therendlec  bmmend ty oo there ao\n",
      "poyoo wont th lutld anshep, don't toum to meoole th  ther th lodlec, dood and don't tn  fn ther thsks asd doo , bu, iather thach ther th long fot thersndoecs bmmend ty oo thers ao\n",
      "peyoo wont to lutld anshep, don't doum to p,oole th  toer th lodlect dood and don't dn  gngther thsks and dookt but dather thach ther th long for therendlen  wmmens ty on there as\n",
      "peyoo want th butld anshepe don't doum to peo le th  ther th lodlect wood and don't dn  gngther thsks and dookt but wather thach ther th long fo  thersnd es  immens ty oo thers as\n",
      "poyoo want to butld ans epe don't woum to people th  ther th lodlect wood and don't wn ign ther th ks asd dookt but iathe  thach ther th long po  the snd es  immens ty oo the s as\n",
      "poyoo want to butld ans ep, don't doum to meoole to  toer to lodlect wood and don't dn  gn them tosks and dookt but batoer toach them to long fot therendlen  bmmend ty oo there ac\n",
      "p yoo want to lutld ans ep, don't dmum uo m,o le to  ther th lodlect dood and don't dn ign ther tosks and dookt wut dathe  thach them to long for thersndlen  iymend ty oo the s as\n",
      "g yop want to lurnd anshep, don't dmum uo peoole to  ther to lollect dood and don't dn  gn'ther tos s ans doo , but iat e  toact ther to long for therendless immens ty oo the e es\n",
      "g yoo want to butle anshep, don't woum uo peoole to  ther to bollect wood and don't wns gn ther tosks ans aopk, but iather thach ther to beng por therendmens bmmens ty oo therehas\n",
      "g yo  want to butld anshap, don't doum uo people th  ther to bollect wood and don't dns gn ther thsks ans dook, but bather toach ther th bong for thersndless bmmens ty of thershas\n",
      "g yoo want to build anshap, don't doum uo peoole to  ther to bollect wood and don't dssign ther thsks ans dook, but iathe  toach ther to bong for thersnsless bmmens py oo the s as\n",
      "goyoo want to build anshap, don't doum uo peoole to  ther to bollect wood and don't dn ign them thsks and dook, but iathe  toact them to bong for thersndless bmmens ty oo the s as\n",
      "goyoo want to build anshap, don't doum to peoole to  them to collect watd and don't ds ign them thsks and datk, but iather toact them to bong for therendless bmmens ty of there as\n",
      "m yop wont th luild asshep, don't toum tp peoole th  ther to lollect wood and don't ts ign them thsks and dook, but rathe  thact them th long for the endless wmmens ty po the e as\n",
      "g yoo want to burld asshep, don't woum up pemolectol them to collect wofd andlwon't ws ign'them todks andlwofk, but bctoem toact them to bong fol themendless immens ty on themeoas\n",
      "m yo  dont th bueld asshape doe't doam to peh le th  ther th bo lect dopd and doe't ds igntthem thske ass dopk, but bather thact them th bong f s thersnd ess bmuens th oo thers as\n",
      "p yop wont to luild asshep, don't doum to peoplt to  toem po lo lect woo  ans don't ds ign them tosks ans aopk, but iather toact ther to long for therensless gmmensipy oo there es\n",
      "g yo  wont to luild ansh p, don't doum uo peoole to  toem to lodlect wood and don't ds  gn'them thdkn ans dook, but bather toact ther to long for therendless gmmens gy oo thereoes\n",
      "m yo  dant ah cuild ans ap, don't doam wo meo le th  aher to codlect wond and don't dssign'them taskdkand dask, but dather toact ther th cong for thersndoess dmmensify ln thershas\n",
      "m yo  want ao build ass ap, don't woumito meoole th  them th codlect wood asd don't wssifnkthem taskskand dotk, but bather thtct ther th bong for thersndoess immensity oo thershas\n",
      "m yoo wont to luird ass ep, don't woum to m,oole th ethem to lo lect woo  ass don't wssipnkthem thsks ans dook, but iather toict them th long fo  thersoslessiaymensity oo the shas\n",
      "p yoo want to luild anshep, don't woum to peoole to ether to lo lect wood and don't wssipn them thsks ans dook, but bather toact them th long fo  thersnslessitymens ty oo the shas\n",
      "p yop want to luild anehep, don't drumiup peoplecth ether to lodlect wood and don't dssigngthem tosks bns dco , but bather toact them to long for thersndless immens ty of the ehes\n",
      "p yo  want to luild anehap, don't doum up peofle to  them te lodlect dofd and don't dssign them tosks and dofk, bur rather teact them to long for thersndlecs immuns ty on the doac\n",
      "p yof want to luild asehap, don't doum uo peofle to  them te lodlect wofd and don't dssign them toskd and dofk, bur rather teach them to long for thersndless immensity of the ahas\n",
      "m yoo want to luild asshap, don't doum uo peoole to  them to lodlect wood and don't dssign them tos d and dofk, but rathe  toach them to long for the sndless ammensity of the shas\n",
      "m yoo wont to cuild asshep, don't doum to peoole to  the  to codlect wood and don't dss gn them tosks and dook, but rathe  toach them to cong for the sndless immensity of the shas\n",
      "m yoo want to cuild asshap, don't doum uo peoole to  the  to collect wood and don't dssign them thsks and dook, but rathe  toach them to cong for toe sndless immensity of the shas\n",
      "g yop want to cuild asshap, don't drum up people to  the  to collect wood and don't dssign them thsks and dook, but rathe  toach them ta cong for the sndless immensity on the shas\n",
      "g yop want to cuild asshap, don't drum up people to  the  to collect wopd and don't dssign them tasks and dopk, but rathe  toach them ta cong for the sndless immensity on the shas\n",
      "g yo  want to cuild a soap, don't drum up people to ether te collect wopd and don't dssign them tosks and dopk, but rather teach them to cong for therendless immensity op thereoas\n",
      "g yo  want to build aos ap, don't drum up people to ethe  te bollect wopd and don't dssign them tosks and dopk, but rathe  teach them to bong for the endless immensity of the ehas\n",
      "g yo  want to build a ship, don't drum up peo le to ethe  te bollect wofd and don't dssign them tosks and dofk, but rathe  teach them to bong for the endless immensity of the eoas\n",
      "f yop want to build asship, don't drum up people to ether te bollect wofd and don't dssign them tosks and dook, but rathe  teach them to bong for the sndless immensity of the soas\n"
     ]
    },
    {
     "name": "stdout",
     "output_type": "stream",
     "text": [
      "g yoo want to build asship, don't trum up people to ether te lollect wood and won't tssign them tosks and dook, but rathe  teach them to long for the sndless immensity on the soas\n",
      "g yo  want to luild asship, don't drum up peo le to ether te lollect wood and don't dssign them tosks and dook, but rathe  teach them to long for the sndless immensity on the soas\n",
      "m yop want to luild asshap, don't drum up people to ether te lollect wood and don't dssign them tosks and dook, but rathe  teach them to long for the sndless immensity of the soas\n",
      "m yop want to build a shap, don't drum up people to ether te lollect wood and don't dssign them tosks and dook, but rathe  teach them ta long for the sndless immensity of the eoas\n",
      "m yop want to build a ship, don't drum up people to ether to lollect wopd and don't dssign them tasks and dohk, but rathe  toach them ta long for the sndless immensity of the soas\n",
      "m yop want to build a ship, don't drum up people to ether to lollect wopd and don't dssign them tasks and dopk, but rathe  toach them ta long for the sndless immensity of the soas\n",
      "m yop want to build a ship, don't arum up people to ether to collect wopd and don't assign them tasks and dopk, but rathe  toach them ta long for the sndless immensity of the soas\n",
      "m yop want to build a ship, don't drum up people to ether to collect wopd and don't dssign them tasks and dohk, but rather toach them ta long for thersndless immensity on thersoas\n",
      "m yop want to build a ship, don't drum up people to ether to collect wopd and don't assign them tasks and dohk, but rather toach them ta long for thersndless immensity of thersoas\n",
      "m yop want to build a ship, don't drum up people to ether to lollect wopd and don't dssign them tosks and dohk, but rather toach them ta long for thersndless immensity of thersoas\n",
      "m yo  want to build a ship, don't drum up people to ether to lollect wood and don't dssign them tasks and dohk, but rather toach them ta long for thersndless immensity on thersoas\n",
      "m yop want to build a ship, don't drum up peoole to ether te lollect wood and don't dssign them tasks and dohk, but rathe  teach them ta long for the sndless immensity of the soas\n",
      "m yoo want to build a ship, don't drum up peoole to ether te lollect wood and don't dssign them tasks and dook, but rathe  teach them ta long for the sndless immensity of the soas\n",
      "l yoo want to build a ship, don't drum up peoole to ether to lollect wood and don't dssign them tasks and dook, but rathe  toach them ta long for the sndless immensity on the soas\n"
     ]
    }
   ],
   "source": [
    "for i in range(100):\n",
    "    optimizer.zero_grad()\n",
    "    outputs = net(X) # (170, 10, 25) 크기를 가진 텐서를 매 에포크마다 모델의 입력으로 사용\n",
    "    loss = criterion(outputs.view(-1, dic_size), Y.view(-1))\n",
    "    loss.backward()\n",
    "    optimizer.step()\n",
    "\n",
    "    # results의 텐서 크기는 (170, 10)\n",
    "    results = outputs.argmax(dim=2)\n",
    "    predict_str = \"\"\n",
    "    for j, result in enumerate(results):\n",
    "        if j == 0: # 처음에는 예측 결과를 전부 가져오지만\n",
    "            predict_str += ''.join([char_set[t] for t in result])\n",
    "        else: # 그 다음에는 마지막 글자만 반복 추가\n",
    "            predict_str += char_set[result[-1]]\n",
    "\n",
    "    print(predict_str)"
   ]
  },
  {
   "cell_type": "markdown",
   "id": "fa913195",
   "metadata": {},
   "source": [
    "처음에는 이상한 예측을 하지만 마지막 에포크에서는 꽤 정확한 문자을 생성하는 것을 볼 수 있습니다."
   ]
  }
 ],
 "metadata": {
  "kernelspec": {
   "display_name": "Python 3 (ipykernel)",
   "language": "python",
   "name": "python3"
  },
  "language_info": {
   "codemirror_mode": {
    "name": "ipython",
    "version": 3
   },
   "file_extension": ".py",
   "mimetype": "text/x-python",
   "name": "python",
   "nbconvert_exporter": "python",
   "pygments_lexer": "ipython3",
   "version": "3.11.5"
  }
 },
 "nbformat": 4,
 "nbformat_minor": 5
}
