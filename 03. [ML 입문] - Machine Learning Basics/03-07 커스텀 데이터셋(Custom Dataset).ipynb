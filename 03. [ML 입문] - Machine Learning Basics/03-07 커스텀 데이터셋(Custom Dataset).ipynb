{
 "cells": [
  {
   "cell_type": "markdown",
   "id": "ff3a15f1",
   "metadata": {},
   "source": [
    "앞 내용을 잠깐 복습해봅시다. 파이토치에서는 데이터셋을 좀 더 쉽게 다룰 수 있도록 유용한 도구로서 torch.utils.data.Dataset과 torch.utils.data.DataLoader를 제공합니다. 이를 사용하면 미니 배치 학습, 데이터 셔플(shuffle), 병렬 처리까지 간단히 수행할 수 있습니다. 기본적인 사용 방법은 Dataset을 정의하고, 이를 DataLoader에 전달하는 것입니다."
   ]
  },
  {
   "cell_type": "markdown",
   "id": "0da3f789",
   "metadata": {},
   "source": [
    "# 1. 커스텀 데이터셋(Custom Dataset)\n",
    "\n",
    "---\n",
    "\n",
    "그런데 torch.utils.data.Dataset을 상속받아 직접 커스텀 데이터셋(Custom Dataset)을 만드는 경우도 있습니다.  \n",
    "torch.utils.data.Dataset은 파이토치에서 데이터셋을 제공하는 추상 클래스입니다. Dataset을 상속받아 다음 메소드들을 오버라이드 하여 커스텀 데이터셋을 만들어보겠습니다.\n",
    "\n",
    "커스텀 데이터셋을 만들 때, 일단 가장 기본적인 뼈대는 아래와 같습니다. 여기서 필요한 기본적인 define은 3개입니다."
   ]
  },
  {
   "cell_type": "code",
   "execution_count": 2,
   "id": "8137e1a6",
   "metadata": {},
   "outputs": [],
   "source": [
    "# class CustomDataset(torch.utils.data.Dataset): \n",
    "#   def __init__(self):\n",
    "\n",
    "#   def __len__(self):\n",
    "\n",
    "#   def __getitem__(self, idx): "
   ]
  },
  {
   "cell_type": "markdown",
   "id": "dfbc1aa7",
   "metadata": {},
   "source": [
    "이를 좀 더 자세히 봅시다."
   ]
  },
  {
   "cell_type": "code",
   "execution_count": 3,
   "id": "11d8e18b",
   "metadata": {},
   "outputs": [],
   "source": [
    "# class CustomDataset(torch.utils.data.Dataset): \n",
    "#   def __init__(self):\n",
    "#   데이터셋의 전처리를 해주는 부분\n",
    "\n",
    "#   def __len__(self):\n",
    "#   데이터셋의 길이. 즉, 총 샘플의 수를 적어주는 부분\n",
    "\n",
    "#   def __getitem__(self, idx): \n",
    "#   데이터셋에서 특정 1개의 샘플을 가져오는 함수"
   ]
  },
  {
   "cell_type": "markdown",
   "id": "17d490df",
   "metadata": {},
   "source": [
    "+ len(dataset)을 했을 때 데이터셋의 크기를 리턴할 **len**\n",
    "+ dataset[i]을 했을 때 i번째 샘플을 가져오도록 하는 인덱싱을 위한 **get_item**"
   ]
  },
  {
   "cell_type": "markdown",
   "id": "b425693e",
   "metadata": {},
   "source": [
    "# 2. 커스텀 데이터셋(Custom Dataset)으로 선형 회귀 구현하기\n",
    "\n",
    "---"
   ]
  },
  {
   "cell_type": "code",
   "execution_count": 4,
   "id": "a30d6bc4",
   "metadata": {},
   "outputs": [],
   "source": [
    "import torch\n",
    "import torch.nn.functional as F\n",
    "from torch.utils.data import Dataset\n",
    "from torch.utils.data import DataLoader"
   ]
  },
  {
   "cell_type": "code",
   "execution_count": 5,
   "id": "a72230d8",
   "metadata": {},
   "outputs": [],
   "source": [
    "# Dataset 상속\n",
    "class CustomDataset(Dataset): \n",
    "  def __init__(self):\n",
    "    self.x_data = [[73, 80, 75],\n",
    "                   [93, 88, 93],\n",
    "                   [89, 91, 90],\n",
    "                   [96, 98, 100],\n",
    "                   [73, 66, 70]]\n",
    "    self.y_data = [[152], [185], [180], [196], [142]]\n",
    "\n",
    "  # 총 데이터의 개수를 리턴\n",
    "  def __len__(self): \n",
    "    return len(self.x_data)\n",
    "\n",
    "  # 인덱스를 입력받아 그에 맵핑되는 입출력 데이터를 파이토치의 Tensor 형태로 리턴\n",
    "  def __getitem__(self, idx): \n",
    "    x = torch.FloatTensor(self.x_data[idx])\n",
    "    y = torch.FloatTensor(self.y_data[idx])\n",
    "    return x, y"
   ]
  },
  {
   "cell_type": "code",
   "execution_count": 6,
   "id": "2ae25e29",
   "metadata": {},
   "outputs": [],
   "source": [
    "dataset = CustomDataset()\n",
    "dataloader = DataLoader(dataset, batch_size=2, shuffle=True)"
   ]
  },
  {
   "cell_type": "code",
   "execution_count": 7,
   "id": "918e647d",
   "metadata": {},
   "outputs": [],
   "source": [
    "model = torch.nn.Linear(3,1)\n",
    "optimizer = torch.optim.SGD(model.parameters(), lr=1e-5) "
   ]
  },
  {
   "cell_type": "code",
   "execution_count": 8,
   "id": "7aeee2f5",
   "metadata": {},
   "outputs": [
    {
     "name": "stdout",
     "output_type": "stream",
     "text": [
      "Epoch    0/20 Batch 1/3 Cost: 28855.109375\n",
      "Epoch    0/20 Batch 2/3 Cost: 7089.529785\n",
      "Epoch    0/20 Batch 3/3 Cost: 3220.745117\n",
      "Epoch    1/20 Batch 1/3 Cost: 719.351746\n",
      "Epoch    1/20 Batch 2/3 Cost: 276.677002\n",
      "Epoch    1/20 Batch 3/3 Cost: 89.712425\n",
      "Epoch    2/20 Batch 1/3 Cost: 20.469385\n",
      "Epoch    2/20 Batch 2/3 Cost: 10.516458\n",
      "Epoch    2/20 Batch 3/3 Cost: 1.115393\n",
      "Epoch    3/20 Batch 1/3 Cost: 0.309455\n",
      "Epoch    3/20 Batch 2/3 Cost: 3.963629\n",
      "Epoch    3/20 Batch 3/3 Cost: 1.739359\n",
      "Epoch    4/20 Batch 1/3 Cost: 0.392422\n",
      "Epoch    4/20 Batch 2/3 Cost: 3.724158\n",
      "Epoch    4/20 Batch 3/3 Cost: 0.458828\n",
      "Epoch    5/20 Batch 1/3 Cost: 0.103547\n",
      "Epoch    5/20 Batch 2/3 Cost: 0.473465\n",
      "Epoch    5/20 Batch 3/3 Cost: 6.498781\n",
      "Epoch    6/20 Batch 1/3 Cost: 2.512354\n",
      "Epoch    6/20 Batch 2/3 Cost: 2.765586\n",
      "Epoch    6/20 Batch 3/3 Cost: 0.063619\n",
      "Epoch    7/20 Batch 1/3 Cost: 1.386602\n",
      "Epoch    7/20 Batch 2/3 Cost: 3.208985\n",
      "Epoch    7/20 Batch 3/3 Cost: 0.008455\n",
      "Epoch    8/20 Batch 1/3 Cost: 2.329247\n",
      "Epoch    8/20 Batch 2/3 Cost: 1.426601\n",
      "Epoch    8/20 Batch 3/3 Cost: 0.021695\n",
      "Epoch    9/20 Batch 1/3 Cost: 0.007475\n",
      "Epoch    9/20 Batch 2/3 Cost: 3.084907\n",
      "Epoch    9/20 Batch 3/3 Cost: 0.570770\n",
      "Epoch   10/20 Batch 1/3 Cost: 2.841810\n",
      "Epoch   10/20 Batch 2/3 Cost: 1.696228\n",
      "Epoch   10/20 Batch 3/3 Cost: 0.120844\n",
      "Epoch   11/20 Batch 1/3 Cost: 2.745868\n",
      "Epoch   11/20 Batch 2/3 Cost: 1.706363\n",
      "Epoch   11/20 Batch 3/3 Cost: 0.157164\n",
      "Epoch   12/20 Batch 1/3 Cost: 2.609126\n",
      "Epoch   12/20 Batch 2/3 Cost: 1.824633\n",
      "Epoch   12/20 Batch 3/3 Cost: 0.141393\n",
      "Epoch   13/20 Batch 1/3 Cost: 0.036747\n",
      "Epoch   13/20 Batch 2/3 Cost: 2.577389\n",
      "Epoch   13/20 Batch 3/3 Cost: 2.315193\n",
      "Epoch   14/20 Batch 1/3 Cost: 0.391653\n",
      "Epoch   14/20 Batch 2/3 Cost: 3.471328\n",
      "Epoch   14/20 Batch 3/3 Cost: 0.014304\n",
      "Epoch   15/20 Batch 1/3 Cost: 2.310773\n",
      "Epoch   15/20 Batch 2/3 Cost: 2.106574\n",
      "Epoch   15/20 Batch 3/3 Cost: 0.088716\n",
      "Epoch   16/20 Batch 1/3 Cost: 2.635944\n",
      "Epoch   16/20 Batch 2/3 Cost: 1.830959\n",
      "Epoch   16/20 Batch 3/3 Cost: 0.110346\n",
      "Epoch   17/20 Batch 1/3 Cost: 0.627716\n",
      "Epoch   17/20 Batch 2/3 Cost: 3.661184\n",
      "Epoch   17/20 Batch 3/3 Cost: 0.000037\n",
      "Epoch   18/20 Batch 1/3 Cost: 3.038657\n",
      "Epoch   18/20 Batch 2/3 Cost: 0.008314\n",
      "Epoch   18/20 Batch 3/3 Cost: 0.585598\n",
      "Epoch   19/20 Batch 1/3 Cost: 0.519425\n",
      "Epoch   19/20 Batch 2/3 Cost: 3.317270\n",
      "Epoch   19/20 Batch 3/3 Cost: 0.673188\n",
      "Epoch   20/20 Batch 1/3 Cost: 0.596111\n",
      "Epoch   20/20 Batch 2/3 Cost: 3.679163\n",
      "Epoch   20/20 Batch 3/3 Cost: 0.000000\n"
     ]
    }
   ],
   "source": [
    "nb_epochs = 20\n",
    "for epoch in range(nb_epochs + 1):\n",
    "  for batch_idx, samples in enumerate(dataloader):\n",
    "    # print(batch_idx)\n",
    "    # print(samples)\n",
    "    x_train, y_train = samples\n",
    "    # H(x) 계산\n",
    "    prediction = model(x_train)\n",
    "\n",
    "    # cost 계산\n",
    "    cost = F.mse_loss(prediction, y_train)\n",
    "\n",
    "    # cost로 H(x) 계산\n",
    "    optimizer.zero_grad()\n",
    "    cost.backward()\n",
    "    optimizer.step()\n",
    "\n",
    "    print('Epoch {:4d}/{} Batch {}/{} Cost: {:.6f}'.format(\n",
    "        epoch, nb_epochs, batch_idx+1, len(dataloader),\n",
    "        cost.item()\n",
    "        ))"
   ]
  },
  {
   "cell_type": "code",
   "execution_count": 9,
   "id": "fda3be5d",
   "metadata": {},
   "outputs": [
    {
     "name": "stdout",
     "output_type": "stream",
     "text": [
      "훈련 후 입력이 73, 80, 75일 때의 예측값 : tensor([[149.9516]], grad_fn=<AddmmBackward0>)\n"
     ]
    }
   ],
   "source": [
    "# 임의의 입력 [73, 80, 75]를 선언\n",
    "new_var =  torch.FloatTensor([[73, 80, 75]]) \n",
    "# 입력한 값 [73, 80, 75]에 대해서 예측값 y를 리턴받아서 pred_y에 저장\n",
    "pred_y = model(new_var) \n",
    "print(\"훈련 후 입력이 73, 80, 75일 때의 예측값 :\", pred_y) "
   ]
  }
 ],
 "metadata": {
  "kernelspec": {
   "display_name": "Python 3 (ipykernel)",
   "language": "python",
   "name": "python3"
  },
  "language_info": {
   "codemirror_mode": {
    "name": "ipython",
    "version": 3
   },
   "file_extension": ".py",
   "mimetype": "text/x-python",
   "name": "python",
   "nbconvert_exporter": "python",
   "pygments_lexer": "ipython3",
   "version": "3.11.5"
  }
 },
 "nbformat": 4,
 "nbformat_minor": 5
}
